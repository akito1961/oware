{
 "cells": [
  {
   "attachments": {},
   "cell_type": "markdown",
   "metadata": {},
   "source": [
    "# Oware"
   ]
  },
  {
   "cell_type": "code",
   "execution_count": 1,
   "metadata": {},
   "outputs": [],
   "source": [
    "from Game import Oware"
   ]
  },
  {
   "cell_type": "code",
   "execution_count": 2,
   "metadata": {},
   "outputs": [],
   "source": [
    "game = Oware(board=[0, 0, 0, 0, 0, 0, 1, 0, 8, 0, 0, 2],\n",
    "             playerOne= False)"
   ]
  },
  {
   "cell_type": "code",
   "execution_count": 3,
   "metadata": {},
   "outputs": [
    {
     "name": "stdout",
     "output_type": "stream",
     "text": [
      "+----+----+----+----+----+----+\n",
      "|  2 |  0 |  0 |  8 |  0 |  1 |\n",
      "+----+----+----+----+----+----+\n",
      "|  0 |  0 |  0 |  0 |  0 |  0 |\n",
      "+----+----+----+----+----+----+\n",
      "\n",
      "(0, 0)\n"
     ]
    }
   ],
   "source": [
    "print(game.board_render())\n",
    "print(game.score())"
   ]
  },
  {
   "attachments": {},
   "cell_type": "markdown",
   "metadata": {},
   "source": [
    "index notation\n",
    "\n",
    "|    |    |   |   |   |   |\n",
    "|----|----|---|---|---|---|\n",
    "| 11 | 10 | 9 | 8 | 7 | 6 |\n",
    "| 0  | 1  | 2 | 3 | 4 | 5 |"
   ]
  },
  {
   "cell_type": "code",
   "execution_count": 4,
   "metadata": {},
   "outputs": [
    {
     "name": "stdout",
     "output_type": "stream",
     "text": [
      "+----+----+----+----+----+----+\n",
      "|  2 |  0 |  0 |  8 |  1 |  0 |\n",
      "+----+----+----+----+----+----+\n",
      "|  0 |  0 |  0 |  0 |  0 |  0 |\n",
      "+----+----+----+----+----+----+\n",
      "\n",
      "(0, 0)\n",
      "Player One : True\n"
     ]
    }
   ],
   "source": [
    "move = 6\n",
    "\n",
    "game.move(move)\n",
    "print(game.board_render())\n",
    "print(game.score())\n",
    "print(\"Player One :\", game.playerone_turn())"
   ]
  },
  {
   "cell_type": "code",
   "execution_count": 66,
   "metadata": {},
   "outputs": [
    {
     "data": {
      "text/plain": [
       "[4, 4, 4, 4, 4, 4, 4, 4, 4, 4, 4, 4]"
      ]
     },
     "execution_count": 66,
     "metadata": {},
     "output_type": "execute_result"
    }
   ],
   "source": [
    "Oware._default_board"
   ]
  },
  {
   "cell_type": "code",
   "execution_count": null,
   "metadata": {},
   "outputs": [],
   "source": [
    "[0, 0, 0, 0, 0, 0, 1, 0, 8, 0, 0, 2]"
   ]
  }
 ],
 "metadata": {
  "kernelspec": {
   "display_name": "Python 3",
   "language": "python",
   "name": "python3"
  },
  "language_info": {
   "codemirror_mode": {
    "name": "ipython",
    "version": 3
   },
   "file_extension": ".py",
   "mimetype": "text/x-python",
   "name": "python",
   "nbconvert_exporter": "python",
   "pygments_lexer": "ipython3",
   "version": "3.10.5 (tags/v3.10.5:f377153, Jun  6 2022, 16:14:13) [MSC v.1929 64 bit (AMD64)]"
  },
  "orig_nbformat": 4,
  "vscode": {
   "interpreter": {
    "hash": "5830221da9ff863bbd25adcf854c4847988091fdfc8381106bbd551dc683a958"
   }
  }
 },
 "nbformat": 4,
 "nbformat_minor": 2
}
