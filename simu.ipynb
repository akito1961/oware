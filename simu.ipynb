{
 "cells": [
  {
   "attachments": {},
   "cell_type": "markdown",
   "metadata": {},
   "source": [
    "# Oware"
   ]
  },
  {
   "cell_type": "code",
   "execution_count": 39,
   "metadata": {},
   "outputs": [],
   "source": [
    "from Game import Oware"
   ]
  },
  {
   "cell_type": "code",
   "execution_count": 40,
   "metadata": {},
   "outputs": [],
   "source": [
    "game = Oware(board = [0, 0, 0, 0, 0, 0, 1, 0, 8, 0, 0, 2],\n",
    "             playerOne = False)\n",
    "\n",
    "# [0, 0, 0, 0, 0, 0, 1, 0, 8, 0, 0, 2] problem board"
   ]
  },
  {
   "cell_type": "code",
   "execution_count": 41,
   "metadata": {},
   "outputs": [
    {
     "name": "stdout",
     "output_type": "stream",
     "text": [
      "+----+----+----+----+----+----+\n",
      "|  2 |  0 |  0 |  8 |  0 |  1 |\n",
      "+----+----+----+----+----+----+\n",
      "|  0 |  0 |  0 |  0 |  0 |  0 |\n",
      "+----+----+----+----+----+----+\n",
      "\n",
      "[0, 0]\n",
      "False\n"
     ]
    }
   ],
   "source": [
    "print(game.board_render())\n",
    "print(game.score())\n",
    "print(game.playerone())"
   ]
  },
  {
   "cell_type": "code",
   "execution_count": 42,
   "metadata": {},
   "outputs": [
    {
     "data": {
      "text/plain": [
       "[8, 11]"
      ]
     },
     "execution_count": 42,
     "metadata": {},
     "output_type": "execute_result"
    }
   ],
   "source": [
    "game.valid_move()"
   ]
  },
  {
   "cell_type": "code",
   "execution_count": 43,
   "metadata": {},
   "outputs": [
    {
     "data": {
      "text/plain": [
       "[]"
      ]
     },
     "execution_count": 43,
     "metadata": {},
     "output_type": "execute_result"
    }
   ],
   "source": [
    "game.moves()"
   ]
  },
  {
   "attachments": {},
   "cell_type": "markdown",
   "metadata": {},
   "source": [
    "## Testing a minimax AI"
   ]
  },
  {
   "cell_type": "code",
   "execution_count": 44,
   "metadata": {},
   "outputs": [],
   "source": [
    "from agent.minimax import _minimax, bestmove"
   ]
  },
  {
   "cell_type": "code",
   "execution_count": 48,
   "metadata": {},
   "outputs": [
    {
     "name": "stdout",
     "output_type": "stream",
     "text": [
      "0\n",
      "Idx move : 6\n"
     ]
    }
   ],
   "source": [
    "clone = game.clone()\n",
    "move = bestmove(clone)\n",
    "print(\"Idx move :\", move)"
   ]
  },
  {
   "attachments": {},
   "cell_type": "markdown",
   "metadata": {},
   "source": [
    "## How to play"
   ]
  },
  {
   "attachments": {},
   "cell_type": "markdown",
   "metadata": {},
   "source": [
    "index notation\n",
    "\n",
    "|    |    |   |   |   |   |\n",
    "|----|----|---|---|---|---|\n",
    "| 11 | 10 | 9 | 8 | 7 | 6 |\n",
    "| 0  | 1  | 2 | 3 | 4 | 5 |"
   ]
  },
  {
   "cell_type": "code",
   "execution_count": 47,
   "metadata": {},
   "outputs": [
    {
     "name": "stdout",
     "output_type": "stream",
     "text": [
      "+----+----+----+----+----+----+\n",
      "|  3 |  1 |  1 |  0 |  0 |  1 |\n",
      "+----+----+----+----+----+----+\n",
      "|  1 |  1 |  1 |  1 |  0 |  1 |\n",
      "+----+----+----+----+----+----+\n",
      "\n",
      "[0, 0]\n",
      "Next Turn is Player One : False\n",
      "0\n"
     ]
    }
   ],
   "source": [
    "# insert 0-11 for board index then run this cell\n",
    "# index notation is refered from the above table.\n",
    "\n",
    "move = 4\n",
    "\n",
    "idx = game.move(move)\n",
    "print(game.board_render())\n",
    "print(game.score())\n",
    "print(\"Next Turn is Player One :\", game.playerone())\n",
    "print(idx)"
   ]
  },
  {
   "cell_type": "code",
   "execution_count": 10,
   "metadata": {},
   "outputs": [],
   "source": [
    "idx = game.move(7)"
   ]
  },
  {
   "cell_type": "code",
   "execution_count": 11,
   "metadata": {},
   "outputs": [],
   "source": [
    "dict = {1: 2,\n",
    "        2: 5,\n",
    "        3: -3,\n",
    "        4: 5}"
   ]
  },
  {
   "cell_type": "code",
   "execution_count": 12,
   "metadata": {},
   "outputs": [
    {
     "data": {
      "text/plain": [
       "5"
      ]
     },
     "execution_count": 12,
     "metadata": {},
     "output_type": "execute_result"
    }
   ],
   "source": [
    "max(dict.values())"
   ]
  },
  {
   "cell_type": "code",
   "execution_count": 13,
   "metadata": {},
   "outputs": [
    {
     "data": {
      "text/plain": [
       "dict_items([(1, 2), (2, 5), (3, -3), (4, 5)])"
      ]
     },
     "execution_count": 13,
     "metadata": {},
     "output_type": "execute_result"
    }
   ],
   "source": [
    "dict.items()"
   ]
  },
  {
   "cell_type": "code",
   "execution_count": 14,
   "metadata": {},
   "outputs": [
    {
     "name": "stdout",
     "output_type": "stream",
     "text": [
      "None\n"
     ]
    }
   ],
   "source": [
    "print(dict.get(max(dict.values())))"
   ]
  },
  {
   "cell_type": "code",
   "execution_count": null,
   "metadata": {},
   "outputs": [],
   "source": []
  }
 ],
 "metadata": {
  "kernelspec": {
   "display_name": "Python 3",
   "language": "python",
   "name": "python3"
  },
  "language_info": {
   "codemirror_mode": {
    "name": "ipython",
    "version": 3
   },
   "file_extension": ".py",
   "mimetype": "text/x-python",
   "name": "python",
   "nbconvert_exporter": "python",
   "pygments_lexer": "ipython3",
   "version": "3.10.4"
  },
  "orig_nbformat": 4,
  "vscode": {
   "interpreter": {
    "hash": "3ad933181bd8a04b432d3370b9dc3b0662ad032c4dfaa4e4f1596c548f763858"
   }
  }
 },
 "nbformat": 4,
 "nbformat_minor": 2
}
