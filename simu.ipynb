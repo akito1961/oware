{
 "cells": [
  {
   "attachments": {},
   "cell_type": "markdown",
   "metadata": {},
   "source": [
    "# Oware"
   ]
  },
  {
   "cell_type": "code",
   "execution_count": 1,
   "metadata": {},
   "outputs": [],
   "source": [
    "from Game import Oware"
   ]
  },
  {
   "cell_type": "code",
   "execution_count": 2,
   "metadata": {},
   "outputs": [],
   "source": [
    "game = Oware(board = [0, 0, 0, 0, 0, 0, 1, 0, 8, 0, 0, 2],\n",
    "             playerOne = False)\n",
    "\n",
    "# [0, 0, 0, 0, 0, 0, 1, 0, 8, 0, 0, 2] problem board"
   ]
  },
  {
   "cell_type": "code",
   "execution_count": 3,
   "metadata": {},
   "outputs": [
    {
     "name": "stdout",
     "output_type": "stream",
     "text": [
      "+----+----+----+----+----+----+\n",
      "|  2 |  0 |  0 |  8 |  0 |  1 |\n",
      "+----+----+----+----+----+----+\n",
      "|  0 |  0 |  0 |  0 |  0 |  0 |\n",
      "+----+----+----+----+----+----+\n",
      "\n",
      "[0, 0]\n",
      "False\n"
     ]
    }
   ],
   "source": [
    "print(game.board_render())\n",
    "print(game.score())\n",
    "print(game.playerone())"
   ]
  },
  {
   "cell_type": "code",
   "execution_count": 4,
   "metadata": {},
   "outputs": [
    {
     "data": {
      "text/plain": [
       "[8, 11]"
      ]
     },
     "execution_count": 4,
     "metadata": {},
     "output_type": "execute_result"
    }
   ],
   "source": [
    "game.valid_move()"
   ]
  },
  {
   "cell_type": "code",
   "execution_count": 5,
   "metadata": {},
   "outputs": [
    {
     "data": {
      "text/plain": [
       "[]"
      ]
     },
     "execution_count": 5,
     "metadata": {},
     "output_type": "execute_result"
    }
   ],
   "source": [
    "game.moves()"
   ]
  },
  {
   "attachments": {},
   "cell_type": "markdown",
   "metadata": {},
   "source": [
    "## Testing a minimax AI"
   ]
  },
  {
   "cell_type": "code",
   "execution_count": 6,
   "metadata": {},
   "outputs": [],
   "source": [
    "from agent.minimax import _minimax, bestmove"
   ]
  },
  {
   "cell_type": "code",
   "execution_count": 73,
   "metadata": {},
   "outputs": [
    {
     "name": "stdout",
     "output_type": "stream",
     "text": [
      "6\n",
      "Idx move : 5\n"
     ]
    }
   ],
   "source": [
    "clone = game.clone()\n",
    "move = bestmove(clone)\n",
    "print(\"Idx move :\", move)"
   ]
  },
  {
   "attachments": {},
   "cell_type": "markdown",
   "metadata": {},
   "source": [
    "index notation\n",
    "\n",
    "|    |    |   |   |   |   |\n",
    "|----|----|---|---|---|---|\n",
    "| 11 | 10 | 9 | 8 | 7 | 6 |\n",
    "| 0  | 1  | 2 | 3 | 4 | 5 |"
   ]
  },
  {
   "cell_type": "code",
   "execution_count": 75,
   "metadata": {},
   "outputs": [
    {
     "name": "stdout",
     "output_type": "stream",
     "text": [
      "+----+----+----+----+----+----+\n",
      "|  0 |  0 |  1 |  1 |  2 |  1 |\n",
      "+----+----+----+----+----+----+\n",
      "|  0 |  0 |  0 |  0 |  0 |  0 |\n",
      "+----+----+----+----+----+----+\n",
      "\n",
      "[6, 0]\n",
      "Next Turn is Player One : False\n",
      "[6, 0]\n"
     ]
    }
   ],
   "source": [
    "# insert 0-11 for board index then run this cell\n",
    "# index notation is refered from the above table.\n",
    "\n",
    "move = 9\n",
    "\n",
    "idx = game.move(move)\n",
    "print(game.board_render())\n",
    "print(game.score())\n",
    "print(\"Next Turn is Player One :\", game.playerone())\n",
    "print(idx)"
   ]
  },
  {
   "cell_type": "code",
   "execution_count": 10,
   "metadata": {},
   "outputs": [],
   "source": [
    "idx = game.move(7)"
   ]
  },
  {
   "attachments": {},
   "cell_type": "markdown",
   "metadata": {},
   "source": [
    "## Game simulator"
   ]
  },
  {
   "cell_type": "code",
   "execution_count": 1,
   "metadata": {},
   "outputs": [
    {
     "name": "stdout",
     "output_type": "stream",
     "text": [
      "+----+----+----+----+----+----+\n",
      "|  4 |  4 |  4 |  4 |  4 |  4 |\n",
      "+----+----+----+----+----+----+\n",
      "|  4 |  4 |  4 |  4 |  4 |  4 |\n",
      "+----+----+----+----+----+----+\n",
      "\n",
      "P1 Score :  0 AI score :  0\n",
      "Invalid input. Please try again.\n",
      "+----+----+----+----+----+----+\n",
      "|  4 |  4 |  4 |  4 |  4 |  4 |\n",
      "+----+----+----+----+----+----+\n",
      "|  4 |  4 |  4 |  4 |  4 |  4 |\n",
      "+----+----+----+----+----+----+\n",
      "\n",
      "P1 Score :  0 AI score :  0\n",
      "Invalid input. Please try again.\n",
      "+----+----+----+----+----+----+\n",
      "|  4 |  4 |  4 |  4 |  4 |  4 |\n",
      "+----+----+----+----+----+----+\n",
      "|  4 |  4 |  4 |  4 |  4 |  4 |\n",
      "+----+----+----+----+----+----+\n",
      "\n",
      "P1 Score :  0 AI score :  0\n",
      "+----+----+----+----+----+----+\n",
      "|  4 |  4 |  4 |  4 |  4 |  4 |\n",
      "+----+----+----+----+----+----+\n",
      "|  4 |  4 |  4 |  4 |  4 |  4 |\n",
      "+----+----+----+----+----+----+\n",
      "\n",
      "P1 Score :  0 AI score :  0\n"
     ]
    }
   ],
   "source": [
    "from Game import Oware\n",
    "from agent.minimax import bestmove\n",
    "\n",
    "playing = True\n",
    "\n",
    "while playing:\n",
    "    oware = Oware()\n",
    "\n",
    "    print(oware.board_render())\n",
    "    print(\"P1 Score : \", oware.score()[0], \"AI score : \", oware.score()[1])\n",
    "\n",
    "    if oware.playerone():\n",
    "        try:\n",
    "            move = int(input(\"P1 enter move (0-5) : \"))\n",
    "        except:\n",
    "            print(\"Invalid input. Please try again.\")\n",
    "            continue\n",
    "    else:\n",
    "        clone = oware.clone()\n",
    "        move = bestmove(clone)\n",
    "    \n",
    "    oware.move(move)"
   ]
  },
  {
   "cell_type": "code",
   "execution_count": null,
   "metadata": {},
   "outputs": [],
   "source": []
  }
 ],
 "metadata": {
  "kernelspec": {
   "display_name": "Python 3",
   "language": "python",
   "name": "python3"
  },
  "language_info": {
   "codemirror_mode": {
    "name": "ipython",
    "version": 3
   },
   "file_extension": ".py",
   "mimetype": "text/x-python",
   "name": "python",
   "nbconvert_exporter": "python",
   "pygments_lexer": "ipython3",
   "version": "3.10.4"
  },
  "orig_nbformat": 4,
  "vscode": {
   "interpreter": {
    "hash": "3ad933181bd8a04b432d3370b9dc3b0662ad032c4dfaa4e4f1596c548f763858"
   }
  }
 },
 "nbformat": 4,
 "nbformat_minor": 2
}
