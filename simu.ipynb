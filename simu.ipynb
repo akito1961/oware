{
 "cells": [
  {
   "attachments": {},
   "cell_type": "markdown",
   "metadata": {},
   "source": [
    "# Oware"
   ]
  },
  {
   "cell_type": "code",
   "execution_count": 1,
   "metadata": {},
   "outputs": [],
   "source": [
    "from Game import Oware"
   ]
  },
  {
   "cell_type": "code",
   "execution_count": 2,
   "metadata": {},
   "outputs": [],
   "source": [
    "game = Oware(board = [0, 0, 0, 0, 0, 0, 1, 0, 8, 0, 0, 2],\n",
    "             playerOne = False)\n",
    "\n",
    "# [0, 0, 0, 0, 0, 0, 1, 0, 8, 0, 0, 2] problem board"
   ]
  },
  {
   "cell_type": "code",
   "execution_count": 3,
   "metadata": {},
   "outputs": [
    {
     "name": "stdout",
     "output_type": "stream",
     "text": [
      "+----+----+----+----+----+----+\n",
      "|  2 |  0 |  0 |  8 |  0 |  1 |\n",
      "+----+----+----+----+----+----+\n",
      "|  0 |  0 |  0 |  0 |  0 |  0 |\n",
      "+----+----+----+----+----+----+\n",
      "\n",
      "[0, 0]\n",
      "False\n"
     ]
    }
   ],
   "source": [
    "print(game.board_render())\n",
    "print(game.score())\n",
    "print(game.playerone())"
   ]
  },
  {
   "cell_type": "code",
   "execution_count": 4,
   "metadata": {},
   "outputs": [
    {
     "data": {
      "text/plain": [
       "[8, 11]"
      ]
     },
     "execution_count": 4,
     "metadata": {},
     "output_type": "execute_result"
    }
   ],
   "source": [
    "game.valid_move()"
   ]
  },
  {
   "cell_type": "code",
   "execution_count": 5,
   "metadata": {},
   "outputs": [
    {
     "data": {
      "text/plain": [
       "[]"
      ]
     },
     "execution_count": 5,
     "metadata": {},
     "output_type": "execute_result"
    }
   ],
   "source": [
    "game.moves()"
   ]
  },
  {
   "attachments": {},
   "cell_type": "markdown",
   "metadata": {},
   "source": [
    "## Testing a minimax AI"
   ]
  },
  {
   "cell_type": "code",
   "execution_count": 6,
   "metadata": {},
   "outputs": [],
   "source": [
    "from agent.minimax import _minimax, bestmove"
   ]
  },
  {
   "cell_type": "code",
   "execution_count": 73,
   "metadata": {},
   "outputs": [
    {
     "name": "stdout",
     "output_type": "stream",
     "text": [
      "6\n",
      "Idx move : 5\n"
     ]
    }
   ],
   "source": [
    "clone = game.clone()\n",
    "move = bestmove(clone)\n",
    "print(\"Idx move :\", move)"
   ]
  },
  {
   "attachments": {},
   "cell_type": "markdown",
   "metadata": {},
   "source": [
    "index notation\n",
    "\n",
    "|    |    |   |   |   |   |\n",
    "|----|----|---|---|---|---|\n",
    "| 11 | 10 | 9 | 8 | 7 | 6 |\n",
    "| 0  | 1  | 2 | 3 | 4 | 5 |"
   ]
  },
  {
   "cell_type": "code",
   "execution_count": 75,
   "metadata": {},
   "outputs": [
    {
     "name": "stdout",
     "output_type": "stream",
     "text": [
      "+----+----+----+----+----+----+\n",
      "|  0 |  0 |  1 |  1 |  2 |  1 |\n",
      "+----+----+----+----+----+----+\n",
      "|  0 |  0 |  0 |  0 |  0 |  0 |\n",
      "+----+----+----+----+----+----+\n",
      "\n",
      "[6, 0]\n",
      "Next Turn is Player One : False\n",
      "[6, 0]\n"
     ]
    }
   ],
   "source": [
    "# insert 0-11 for board index then run this cell\n",
    "# index notation is refered from the above table.\n",
    "\n",
    "move = 9\n",
    "\n",
    "idx = game.move(move)\n",
    "print(game.board_render())\n",
    "print(game.score())\n",
    "print(\"Next Turn is Player One :\", game.playerone())\n",
    "print(idx)"
   ]
  },
  {
   "cell_type": "code",
   "execution_count": 10,
   "metadata": {},
   "outputs": [],
   "source": [
    "idx = game.move(7)"
   ]
  },
  {
   "attachments": {},
   "cell_type": "markdown",
   "metadata": {},
   "source": [
    "## Game simulator"
   ]
  },
  {
   "cell_type": "code",
   "execution_count": 1,
   "metadata": {},
   "outputs": [
    {
     "name": "stdout",
     "output_type": "stream",
     "text": [
      "+----+----+----+----+----+----+\n",
      "|  0 |  0 |  0 |  0 |  0 |  0 |\n",
      "+----+----+----+----+----+----+\n",
      "|  0 |  0 |  0 |  0 |  0 |  0 |\n",
      "+----+----+----+----+----+----+\n",
      "\n",
      "P1 Score :  23 , AI score :  25\n",
      "Move History :  [0, 6, 2, 6, 1, 6, 5, 6, 3, 6, 5, 6, 2, 7, 4, 6, 5, 6, 0, 7, 2, 8, 5, 7, 0, 8, 2, 9, 1, 8, 3, 6, 5, 6, 2, 7, 3, 8, 4, 6, 0, 7, 5, 6, 1, 7, 2, 8, 3, 9, 3, 10, 4, 8, 5, 11, 5, 7, 4, 8, 5, 9, 1, 6, 0, 7, 1, 8, 2, 9, 5, 6, 3, 7, 4, 6, 5, 10, 0, 6, 2, 7, 3, 8, 4, 9, 1, 10, 2, 11, 5, 6, 1, 7, 0, 8, 2, 9, 5, 6, 3, 7, 1, 8, 2, 9, 3, 10, 4, 6, 0, 7, 5, 6, 1, 7, 2, 8, 3, 9, 4, 10, 0, 11, 5, 6, 0, 7, 2, 8, 1, 9, 4, 10, 2, 11, 5, 6, 3, 6, 5, 6, 4, 7, 5, 6, 0, 7, 1, 8, 2, 9, 3, 10, 0, 11]\n"
     ]
    },
    {
     "ename": "IndexError",
     "evalue": "list index out of range",
     "output_type": "error",
     "traceback": [
      "\u001b[1;31m---------------------------------------------------------------------------\u001b[0m",
      "\u001b[1;31mIndexError\u001b[0m                                Traceback (most recent call last)",
      "\u001b[1;32md:\\MyData\\Documents\\python\\oware\\simu.ipynb Cell 14\u001b[0m in \u001b[0;36m<cell line: 12>\u001b[1;34m()\u001b[0m\n\u001b[0;32m     <a href='vscode-notebook-cell:/d%3A/MyData/Documents/python/oware/simu.ipynb#X16sZmlsZQ%3D%3D?line=20'>21</a>\u001b[0m \u001b[39mif\u001b[39;00m oware\u001b[39m.\u001b[39mplayerone():\n\u001b[0;32m     <a href='vscode-notebook-cell:/d%3A/MyData/Documents/python/oware/simu.ipynb#X16sZmlsZQ%3D%3D?line=21'>22</a>\u001b[0m     valid_idx \u001b[39m=\u001b[39m oware\u001b[39m.\u001b[39mvalid_move()\n\u001b[1;32m---> <a href='vscode-notebook-cell:/d%3A/MyData/Documents/python/oware/simu.ipynb#X16sZmlsZQ%3D%3D?line=22'>23</a>\u001b[0m     move \u001b[39m=\u001b[39m choice(valid_idx)\n\u001b[0;32m     <a href='vscode-notebook-cell:/d%3A/MyData/Documents/python/oware/simu.ipynb#X16sZmlsZQ%3D%3D?line=23'>24</a>\u001b[0m \u001b[39melse\u001b[39;00m:\n\u001b[0;32m     <a href='vscode-notebook-cell:/d%3A/MyData/Documents/python/oware/simu.ipynb#X16sZmlsZQ%3D%3D?line=24'>25</a>\u001b[0m     clone \u001b[39m=\u001b[39m oware\u001b[39m.\u001b[39mclone()\n",
      "File \u001b[1;32mc:\\Users\\Aon\\AppData\\Local\\Programs\\Python\\Python310\\lib\\random.py:378\u001b[0m, in \u001b[0;36mRandom.choice\u001b[1;34m(self, seq)\u001b[0m\n\u001b[0;32m    376\u001b[0m \u001b[39m\"\"\"Choose a random element from a non-empty sequence.\"\"\"\u001b[39;00m\n\u001b[0;32m    377\u001b[0m \u001b[39m# raises IndexError if seq is empty\u001b[39;00m\n\u001b[1;32m--> 378\u001b[0m \u001b[39mreturn\u001b[39;00m seq[\u001b[39mself\u001b[39;49m\u001b[39m.\u001b[39;49m_randbelow(\u001b[39mlen\u001b[39;49m(seq))]\n",
      "\u001b[1;31mIndexError\u001b[0m: list index out of range"
     ]
    }
   ],
   "source": [
    "from Game import Oware\n",
    "from agent.minimax import bestmove\n",
    "from random import choice\n",
    "\n",
    "# clear console stuff\n",
    "from IPython.display import display, clear_output\n",
    "import sys\n",
    "\n",
    "playing = True\n",
    "oware = Oware()\n",
    "\n",
    "while playing:\n",
    "    \n",
    "    clear_output(wait=True)\n",
    "\n",
    "    print(oware.board_render())\n",
    "    print(\"P1 Score : \", oware.score()[0], \", AI score : \", oware.score()[1])\n",
    "    print(\"Move History : \", oware.moves())\n",
    "\n",
    "    if oware.valid_move != []:\n",
    "        if oware.playerone():\n",
    "            valid_idx = oware.valid_move()\n",
    "            move = choice(valid_idx)\n",
    "        else:\n",
    "            clone = oware.clone()\n",
    "            move = bestmove(clone)\n",
    "        \n",
    "        print(\"Chosen move : \", move)\n",
    "        print(\"Move History : \", oware.moves())\n",
    "        oware.move(move)\n",
    "    \n",
    "    else:\n",
    "        playing = False\n",
    "    \n",
    "    sys.stdout.flush()\n",
    "\n",
    "print(oware.score())\n",
    "print(\"Move History : \", oware.moves())"
   ]
  },
  {
   "cell_type": "code",
   "execution_count": null,
   "metadata": {},
   "outputs": [],
   "source": []
  }
 ],
 "metadata": {
  "kernelspec": {
   "display_name": "Python 3",
   "language": "python",
   "name": "python3"
  },
  "language_info": {
   "codemirror_mode": {
    "name": "ipython",
    "version": 3
   },
   "file_extension": ".py",
   "mimetype": "text/x-python",
   "name": "python",
   "nbconvert_exporter": "python",
   "pygments_lexer": "ipython3",
   "version": "3.10.5"
  },
  "orig_nbformat": 4,
  "vscode": {
   "interpreter": {
    "hash": "5830221da9ff863bbd25adcf854c4847988091fdfc8381106bbd551dc683a958"
   }
  }
 },
 "nbformat": 4,
 "nbformat_minor": 2
}
