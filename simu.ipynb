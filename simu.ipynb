{
 "cells": [
  {
   "attachments": {},
   "cell_type": "markdown",
   "metadata": {},
   "source": [
    "# Oware"
   ]
  },
  {
   "cell_type": "code",
   "execution_count": 1,
   "metadata": {},
   "outputs": [],
   "source": [
    "from Game import Oware"
   ]
  },
  {
   "cell_type": "code",
   "execution_count": 2,
   "metadata": {},
   "outputs": [],
   "source": [
    "game = Oware(board = [0, 0, 0, 0, 0, 0, 1, 0, 8, 0, 0, 2],\n",
    "             playerOne = False)\n",
    "\n",
    "# [0, 0, 0, 0, 0, 0, 1, 0, 8, 0, 0, 2] problem board"
   ]
  },
  {
   "cell_type": "code",
   "execution_count": 3,
   "metadata": {},
   "outputs": [
    {
     "name": "stdout",
     "output_type": "stream",
     "text": [
      "+----+----+----+----+----+----+\n",
      "|  2 |  0 |  0 |  8 |  0 |  1 |\n",
      "+----+----+----+----+----+----+\n",
      "|  0 |  0 |  0 |  0 |  0 |  0 |\n",
      "+----+----+----+----+----+----+\n",
      "\n",
      "[0, 0]\n",
      "False\n"
     ]
    }
   ],
   "source": [
    "print(game.board_render())\n",
    "print(game.score())\n",
    "print(game.playerone())"
   ]
  },
  {
   "cell_type": "code",
   "execution_count": 4,
   "metadata": {},
   "outputs": [
    {
     "data": {
      "text/plain": [
       "[8, 11]"
      ]
     },
     "execution_count": 4,
     "metadata": {},
     "output_type": "execute_result"
    }
   ],
   "source": [
    "game.valid_move()"
   ]
  },
  {
   "cell_type": "code",
   "execution_count": 5,
   "metadata": {},
   "outputs": [
    {
     "data": {
      "text/plain": [
       "[]"
      ]
     },
     "execution_count": 5,
     "metadata": {},
     "output_type": "execute_result"
    }
   ],
   "source": [
    "game.moves()"
   ]
  },
  {
   "attachments": {},
   "cell_type": "markdown",
   "metadata": {},
   "source": [
    "## Testing a minimax AI"
   ]
  },
  {
   "cell_type": "code",
   "execution_count": 6,
   "metadata": {},
   "outputs": [],
   "source": [
    "from agent.minimax import _minimax, bestmove"
   ]
  },
  {
   "cell_type": "code",
   "execution_count": 73,
   "metadata": {},
   "outputs": [
    {
     "name": "stdout",
     "output_type": "stream",
     "text": [
      "6\n",
      "Idx move : 5\n"
     ]
    }
   ],
   "source": [
    "clone = game.clone()\n",
    "move = bestmove(clone)\n",
    "print(\"Idx move :\", move)"
   ]
  },
  {
   "cell_type": "code",
   "execution_count": 75,
   "metadata": {},
   "outputs": [
    {
     "name": "stdout",
     "output_type": "stream",
     "text": [
      "+----+----+----+----+----+----+\n",
      "|  0 |  0 |  1 |  1 |  2 |  1 |\n",
      "+----+----+----+----+----+----+\n",
      "|  0 |  0 |  0 |  0 |  0 |  0 |\n",
      "+----+----+----+----+----+----+\n",
      "\n",
      "[6, 0]\n",
      "Next Turn is Player One : False\n",
      "[6, 0]\n"
     ]
    }
   ],
   "source": [
    "# insert 0-11 for board index then run this cell\n",
    "# index notation is refered from the above table.\n",
    "\n",
    "move = 9\n",
    "\n",
    "idx = game.move(move)\n",
    "print(game.board_render())\n",
    "print(game.score())\n",
    "print(\"Next Turn is Player One :\", game.playerone())\n",
    "print(idx)"
   ]
  },
  {
   "cell_type": "code",
   "execution_count": 10,
   "metadata": {},
   "outputs": [],
   "source": [
    "idx = game.move(7)"
   ]
  },
  {
   "attachments": {},
   "cell_type": "markdown",
   "metadata": {},
   "source": [
    "## Game simulator"
   ]
  },
  {
   "cell_type": "markdown",
   "metadata": {},
   "source": [
    "index notation\n",
    "\n",
    "|    |    |   |   |   |   |\n",
    "|----|----|---|---|---|---|\n",
    "| 11 | 10 | 9 | 8 | 7 | 6 |\n",
    "| 0  | 1  | 2 | 3 | 4 | 5 |"
   ]
  },
  {
   "cell_type": "code",
   "execution_count": 2,
   "metadata": {},
   "outputs": [
    {
     "name": "stdout",
     "output_type": "stream",
     "text": [
      "[Epoch 10/10]\n",
      "+----+----+----+----+----+----+\n",
      "|  0 |  0 |  0 |  0 |  0 |  0 |\n",
      "+----+----+----+----+----+----+\n",
      "|  0 |  0 |  0 |  0 |  0 |  0 |\n",
      "+----+----+----+----+----+----+\n",
      "\n",
      "P1 Score :  26 , AI score :  22\n",
      "Move History :  [1, 10, 4, 11, 5, 11, 2, 8, 2, 10, 4, 6, 3, 9, 3, 11, 1, 7, 5, 7, 2, 8, 5, 10, 2, 11, 3, 8, 5, 6, 2, 7, 3, 10, 1, 9, 1, 8, 2, 9, 0, 10, 4, 10, 3, 7, 1, 9, 5, 9, 0, 6, 3, 7, 1, 10, 0, 8, 1, 9, 3, 10, 2, 7, 5, 8, 3, 11, 2, 6, 1, 10, 3, 9, 4, 8, 2, 7, 5]\n",
      "P1 wins:  3, Tie :  0, Agent wins :  6\n",
      "[Epoch  1/10]\n",
      "P1 Score : 20, AI score : 28\n",
      "Move History : [5, 8, 0, 10, 3, 7, 0, 8, 1, 11, 1, 9, 1, 8, 0, 10, 4, 9, 3, 6, 3, 10, 2, 8, 3, 9, 0, 7, 1, 10, 5, 9, 3, 11, 1, 9, 0, 10, 2, 11, 5, 6, 2, 8, 1, 7, 3, 6, 5, 10, 0, 6, 2, 7, 1, 11, 3, 9, 0, 10, 2, 6, 4, 11, 0, 8, 5, 11, 1, 7, 3, 8, 4, 6, 0, 9, 2, 8, 0, 9, 1, 7, 4, 6, 5, 9, 3, 10, 4, 11, 5]\n",
      "Score Track : [26, 51, 35, 48, 47, 31, 21, 20, 25, 26, 19, 26, 35, 29, 32, 36, 39, 18, 15, 29, 18, 11, 9, 15, 17, 36, 13, -32, 14, 9, 10, 32, 15, 27, 13, 17, 19, 13, 11, 16, 15, 30, 21, 15, 15]\n",
      "\n",
      "[Epoch  2/10]\n",
      "P1 Score : 17, AI score : 31\n",
      "Move History : [3, 6, 1, 11, 3, 7, 2, 6, 0, 11, 5, 11, 4, 9, 3, 11, 1, 6, 5, 9, 2, 7, 4, 8, 1, 10, 3, 6, 1, 7, 4, 6, 0, 6, 1, 8, 3, 7, 2, 11, 4, 6, 2, 9, 3, 7, 2, 9, 5, 9, 3, 11, 5, 10, 3, 7, 5, 9, 1, 11, 2, 6, 0, 7, 4, 7, 3, 6, 5, 7, 1, 8, 4, 10, 1, 11, 2, 9, 5, 11]\n",
      "Score Track : [26, 21, 33, 23, 17, 29, 38, 35, 27, 29, 30, 33, 40, 24, 37, 40, 43, 50, 52, 51, 27, 19, 30, 36, 27, 27, 27, 19, 21, 17, 15, 15, 13, 14, 15, 16, 11, 13, 5, 18]\n",
      "\n",
      "[Epoch  3/10]\n",
      "P1 Score :  2, AI score : 46\n",
      "Move History : [1, 8, 2, 6, 0, 10, 4, 6, 5, 10, 1, 11, 3, 10, 1, 11, 5, 8, 2, 6, 5, 6, 0, 9, 5, 10, 3, 8, 4, 6, 5]\n",
      "Score Track : [24, 29, 25, 35, 35, 35, 33, 34, 34, 36, 28, 39, 31, 36, 36]\n",
      "\n",
      "[Epoch  4/10]\n",
      "P1 Score : 21, AI score : 27\n",
      "Move History : [2, 8, 0, 10, 2, 6, 3, 8, 1, 6, 2, 7, 1, 10, 1, 8, 2, 11, 4, 7, 0, 6, 1, 7, 5, 9, 1, 10, 5, 7, 1, 8, 0, 9, 1, 10, 0, 11, 5, 7, 4, 9, 2, 9, 0, 10, 0, 8, 3, 10, 5, 6, 4, 6, 5, 7, 1, 11, 0, 6, 2, 7, 3, 8, 1, 9, 4, 10]\n",
      "Score Track : [28, 33, 36, 43, 38, 34, 36, 32, 35, 24, 35, 45, 24, 39, 17, 4, 3, 15, 14, 13, 19, 14, 15, 17, 28, 18, 27, 29, 20, 10, 10, -2, -2, 0]\n",
      "\n",
      "[Epoch  5/10]\n",
      "P1 Score : 18, AI score : 30\n",
      "Move History : [5, 8, 1, 9, 0, 6, 4, 11, 2, 6, 5, 7, 4, 9, 5, 11, 2, 8, 0, 9, 4, 11, 5, 7, 1, 7, 4, 6, 5, 10, 2, 11, 3, 9, 5, 7, 4, 9, 1, 6, 5, 6, 3, 7, 4, 11, 0, 8, 1, 10, 1, 6, 2, 6, 4, 11, 0, 9, 3, 7, 4, 10, 2, 6, 5, 6, 3, 7, 4, 10, 5]\n",
      "Score Track : [26, 34, 35, 33, 23, 30, 26, 33, 20, 19, 33, 20, 23, 20, 20, 18, 17, 17, 24, 25, 26, 30, 25, 22, 15, 21, 14, 11, 12, 15, 13, 14, 15, 13, -7]\n",
      "\n",
      "[Epoch  6/10]\n",
      "P1 Score : 27, AI score : 21\n",
      "Move History : [4, 6, 3, 8, 2, 6, 0, 7, 4, 11, 3, 9, 5, 8, 4, 6, 3, 11, 4, 9, 0, 7, 3, 8, 2, 11, 5, 6, 4, 10, 1, 6, 2, 9, 2, 7, 5, 6, 4, 8, 2, 9, 0, 11, 4, 7, 0, 6, 2, 10, 4, 7, 3, 10, 2, 8, 5, 6, 4, 7, 1, 11, 0, 8, 0, 9, 3, 11, 0, 10, 0, 7, 3, 6, 2, 7, 5, 11, 4, 6, 1, 6, 5, 7, 2, 11, 4, 10, 5, 8, 3, 10, 5, 9, 1, 10, 4, 11]\n",
      "Score Track : [28, 33, 39, 36, 43, 20, 28, 28, 28, 24, 35, 24, 29, 31, 22, 16, 13, 23, 21, 23, 30, -24, 23, 18, 18, 11, 11, 24, 27, 27, 27, 11, 17, 17, 12, 12, 14, 12, 14, 16, 14, 17, 15, 9, -13, 10, 5, 2, -8]\n",
      "\n",
      "[Epoch  7/10]\n",
      "P1 Score : 27, AI score : 21\n",
      "Move History : [4, 10, 3, 6, 5, 9, 4, 7, 5, 10, 0, 7, 1, 6, 3, 9, 4, 6, 5, 7, 2, 11, 4, 9, 5, 6, 2, 10, 1, 8, 2, 11, 0, 7, 2, 9, 4, 7, 0, 6, 3, 11, 0, 9, 4, 11, 0, 10, 2, 11, 5, 6, 1, 8, 5, 7, 3, 8, 1, 6, 2, 7, 4, 6, 3, 7, 5, 7, 4, 10, 1, 11, 4, 8, 2, 9, 4, 10, 2, 11]\n",
      "Score Track : [28, 45, 52, 53, 42, 48, 45, 45, 43, 48, 46, 26, 34, 34, 28, 20, 24, -28, 29, 24, 29, 21, 22, 22, 20, 21, 19, 16, 18, 13, 13, 23, 23, 23, 23, 20, 10, 14, -5, -13]\n",
      "\n",
      "[Epoch  8/10]\n",
      "P1 Score : 17, AI score : 31\n",
      "Move History : [0, 10, 2, 6, 5, 9, 0, 10, 3, 11, 0, 9, 2, 6, 5, 6, 3, 10, 1, 9, 2, 7, 3, 10, 2, 8, 0, 6, 2, 9, 4, 6, 2, 7, 1, 10, 1, 11, 3, 6, 0, 10, 1, 11, 3, 8, 2, 9, 3, 7, 4, 7, 5, 8, 3, 6, 1, 10, 2, 11, 0, 7, 3, 8, 4, 6, 2, 9, 0, 11, 0, 8, 4, 7, 1, 6, 3, 7, 2, 8, 5, 6, 4, 9, 0, 11, 5, 10, 4, 11, 2, 8, 3, 9, 1, 6, 5, 6, 2, 10, 3, 7, 5, 8, 4, 6, 5]\n",
      "Score Track : [50, 24, 23, 30, 36, 44, 29, 32, 31, 27, 28, 21, 23, 35, 16, 27, 24, 8, 10, 10, 7, 28, 7, 18, 23, 24, 22, 19, 13, 18, 5, 8, 10, 12, 13, 12, 15, 24, 5, -18, 12, 15, 18, 5, 5, 4, 11, -8, 4, 4, -2, 0, 10]\n",
      "\n",
      "[Epoch  9/10]\n",
      "P1 Score : 30, AI score : 18\n",
      "Move History : [5, 11, 4, 6, 1, 7, 1, 11, 3, 10, 0, 7, 1, 8, 5, 6, 4, 8, 0, 11, 3, 6, 5, 9, 3, 8, 5, 11, 1, 6, 3, 10, 3, 7, 1, 10, 3, 11, 1, 9, 4, 8, 2, 8, 1, 6, 3, 7, 2, 11, 2, 10, 4, 6, 0, 6, 5, 6, 0, 7, 2, 8, 1, 11, 5, 8, 4, 6, 0, 7, 2, 10, 3, 7, 4, 9, 2, 7, 1, 8, 5, 8, 2, 6, 3, 9, 1, 6, 5, 6, 4, 6, 2, 7, 3, 8, 4, 10, 3, 9, 2, 6, 0, 11, 2, 10, 0, 11, 5, 6, 1, 8, 4, 6, 3, 7, 0, 6, 4, 8, 2, 10, 4, 9, 0, 10, 2, 11, 1, 6, 3, 7, 2, 8, 5, 6, 3, 10, 0, 9, 1, 10, 4]\n",
      "Score Track : [26, 40, 27, 36, 42, 37, 34, 38, 39, 25, 37, 33, 19, 31, 13, 9, 9, -37, -37, -37, 31, 29, 29, 31, 32, 27, 21, 17, 22, 30, 31, 39, 12, 32, 31, 30, 22, 24, 19, 17, 23, 21, 21, 24, 25, 27, 29, 26, 27, 19, 23, 25, 15, 4, 18, 13, 9, 12, 9, 13, 9, 9, 9, 15, 5, 5, -13, 9, 12, 9, 11]\n",
      "\n",
      "[Epoch 10/10]\n",
      "P1 Score : 26, AI score : 22\n",
      "Move History : [1, 10, 4, 11, 5, 11, 2, 8, 2, 10, 4, 6, 3, 9, 3, 11, 1, 7, 5, 7, 2, 8, 5, 10, 2, 11, 3, 8, 5, 6, 2, 7, 3, 10, 1, 9, 1, 8, 2, 9, 0, 10, 4, 10, 3, 7, 1, 9, 5, 9, 0, 6, 3, 7, 1, 10, 0, 8, 1, 9, 3, 10, 2, 7, 5, 8, 3, 11, 2, 6, 1, 10, 3, 9, 4, 8, 2, 7, 5]\n",
      "Score Track : [24, 27, 24, 31, 30, 27, 40, 45, 26, 42, 26, 40, 19, 26, 24, 13, 12, 13, -36, -30, -22, 4, 19, 22, 26, 33, 23, 10, 12, -1, 8, 6, 18, 18, 20, 12, 7, 11, 11]\n",
      "\n",
      "P1 wins:  4, Tie :  0, Agent wins :  6\n"
     ]
    }
   ],
   "source": [
    "from Game import Oware\n",
    "from agent.minimax import bestmove\n",
    "from random import choice\n",
    "\n",
    "# clear console stuff\n",
    "from IPython.display import display, clear_output\n",
    "import sys\n",
    "\n",
    "P1 = 0\n",
    "agent = 0\n",
    "tie = 0\n",
    "\n",
    "result = \"\"\n",
    "score_dict = {}\n",
    "\n",
    "test_round = 10\n",
    "\n",
    "\n",
    "for round in range(test_round):\n",
    "    playing = True\n",
    "    oware = Oware()\n",
    "    \n",
    "    score_track = []\n",
    "\n",
    "    while playing:\n",
    "        \n",
    "        clear_output(wait=True)\n",
    "        \n",
    "        print(f\"[Epoch {round + 1: >2}/{test_round: >2}]\")\n",
    "\n",
    "        print(oware.board_render())\n",
    "        print(\"P1 Score : \", oware.score()[0], \", AI score : \", oware.score()[1])\n",
    "        print(\"Move History : \", oware.moves())\n",
    "        print(\"P1 wins: {0: >2}, Tie : {1: >2}, Agent wins : {2: >2}\".format(P1, tie, agent))\n",
    "\n",
    "        if len(oware.valid_move()) != 0:\n",
    "            if oware.playerone(): # P1 makes a play. (random)\n",
    "                valid_idx = oware.valid_move()\n",
    "                move = choice(valid_idx)\n",
    "                \n",
    "            else: # Agent makes a play. (Minimax)\n",
    "                clone = oware.clone()\n",
    "                move, score = bestmove(clone)\n",
    "                score_track.append(score)\n",
    "            \n",
    "            oware.move(move)\n",
    "            print(\"Chosen move : \", move)\n",
    "            print(\"Move History : \", oware.moves())\n",
    "        \n",
    "        else:\n",
    "            playing = False\n",
    "        \n",
    "        sys.stdout.flush()\n",
    "    \n",
    "    result += \"[Epoch {0: >2}/{1: >2}]\\n\".format(round + 1, test_round)\n",
    "    result += \"P1 Score : {0: >2}, AI score : {1: >2}\\n\".format(oware.score()[0], oware.score()[1])\n",
    "    result += \"Move History : {}\\n\".format(oware.moves())\n",
    "    result += \"Score Track : {}\\n\\n\".format(score_track)\n",
    "    score = oware.score()\n",
    "    \n",
    "    if score[0] > score[1]:\n",
    "        P1 += 1\n",
    "    \n",
    "    if score[0] == score[1]:\n",
    "        tie += 1\n",
    "    \n",
    "    if score[0] < score[1]:\n",
    "        agent += 1\n",
    "    \n",
    "    score_dict[round] = list(score_track)\n",
    "\n",
    "\n",
    "result += \"P1 wins: {0: >2}, Tie : {1: >2}, Agent wins : {2: >2}\".format(P1, tie, agent)\n",
    "print(result)\n",
    "# print(oware.score())\n",
    "# print(\"P1 Score : \", oware.score()[0], \", AI score : \", oware.score()[1])\n",
    "# print(\"Move History : \", oware.moves())\n",
    "\n",
    "with open(\"result/result_03272023.txt\", \"w\") as f:\n",
    "    f.write(result)\n"
   ]
  },
  {
   "cell_type": "code",
   "execution_count": 2,
   "metadata": {},
   "outputs": [],
   "source": [
    "import json\n",
    "\n",
    "with open(\"result/score_03202023_heu_changed_02.json\", \"w\") as file:\n",
    "    json.dump(score_dict, file, sort_keys=True, indent=4)"
   ]
  },
  {
   "attachments": {},
   "cell_type": "markdown",
   "metadata": {},
   "source": [
    "# Score plot"
   ]
  },
  {
   "cell_type": "code",
   "execution_count": 5,
   "metadata": {},
   "outputs": [],
   "source": [
    "import matplotlib.pyplot as plt\n",
    "import numpy as np"
   ]
  },
  {
   "cell_type": "code",
   "execution_count": 17,
   "metadata": {},
   "outputs": [],
   "source": [
    "index = choice(range(test_round))\n",
    "\n",
    "xaxis = np.array(list(range(len(score_dict[index]))))\n",
    "yaxis = np.array(score_dict[index])"
   ]
  },
  {
   "cell_type": "code",
   "execution_count": 18,
   "metadata": {},
   "outputs": [
    {
     "data": {
      "image/png": "[encoded data removed]",
      "text/plain": [
       "<Figure size 432x288 with 1 Axes>"
      ]
     },
     "metadata": {
      "needs_background": "light"
     },
     "output_type": "display_data"
    }
   ],
   "source": [
    "plt.plot(xaxis, yaxis)\n",
    "plt.show()"
   ]
  },
  {
   "attachments": {},
   "cell_type": "markdown",
   "metadata": {},
   "source": [
    "## Weight Finder w/ Genetic Algorithm"
   ]
  },
  {
   "cell_type": "code",
   "execution_count": 9,
   "metadata": {},
   "outputs": [],
   "source": [
    "import numpy as np\n",
    "import random"
   ]
  },
  {
   "cell_type": "code",
   "execution_count": 10,
   "metadata": {},
   "outputs": [],
   "source": [
    "weight = np.random.random(1000)\n",
    "weight_2 = [round(random.random(), 5) for _ in range(1000)]"
   ]
  },
  {
   "cell_type": "code",
   "execution_count": 11,
   "metadata": {},
   "outputs": [
    {
     "data": {
      "text/plain": [
       "[0.08297,\n",
       " 0.27628,\n",
       " 0.75199,\n",
       " 0.09669,\n",
       " 0.75812,\n",
       " 0.91426,\n",
       " 0.04797,\n",
       " 0.12543,\n",
       " 0.33229,\n",
       " 0.96417]"
      ]
     },
     "execution_count": 11,
     "metadata": {},
     "output_type": "execute_result"
    }
   ],
   "source": [
    "weight_2[0:10]"
   ]
  },
  {
   "attachments": {},
   "cell_type": "markdown",
   "metadata": {},
   "source": [
    "- filling gene pool"
   ]
  },
  {
   "cell_type": "code",
   "execution_count": 14,
   "metadata": {},
   "outputs": [],
   "source": [
    "def rand_seq():\n",
    "    seq = []\n",
    "    for i in range(5):\n",
    "        seq.append(random.choice(list(set[i].keys())))\n",
    "    \n",
    "    return seq"
   ]
  },
  {
   "cell_type": "code",
   "execution_count": 15,
   "metadata": {},
   "outputs": [],
   "source": [
    "def fill_pool(pool, n):\n",
    "    for i in range(n):\n",
    "        pool.append(rand_seq())\n",
    "        \n",
    "    return pool"
   ]
  },
  {
   "attachments": {},
   "cell_type": "markdown",
   "metadata": {},
   "source": [
    "- evaluation"
   ]
  },
  {
   "cell_type": "code",
   "execution_count": null,
   "metadata": {},
   "outputs": [],
   "source": [
    "def eval(seq):\n",
    "    return 0"
   ]
  },
  {
   "attachments": {},
   "cell_type": "markdown",
   "metadata": {},
   "source": [
    "- prune pool"
   ]
  },
  {
   "cell_type": "code",
   "execution_count": null,
   "metadata": {},
   "outputs": [],
   "source": [
    "def prune_pool(pool, h):\n",
    "    return 0"
   ]
  },
  {
   "attachments": {},
   "cell_type": "markdown",
   "metadata": {},
   "source": [
    "## Oware Game State Generator"
   ]
  },
  {
   "cell_type": "code",
   "execution_count": 1,
   "metadata": {},
   "outputs": [],
   "source": [
    "from Game import Oware\n",
    "from agent.minimax import bestmove\n",
    "from random import choice ,random\n",
    "\n",
    "# clear console stuff\n",
    "from IPython.display import display, clear_output\n",
    "import sys"
   ]
  },
  {
   "cell_type": "code",
   "execution_count": 5,
   "metadata": {},
   "outputs": [
    {
     "data": {
      "text/plain": [
       "0.9714379785616901"
      ]
     },
     "execution_count": 5,
     "metadata": {},
     "output_type": "execute_result"
    }
   ],
   "source": [
    "random()"
   ]
  },
  {
   "cell_type": "code",
   "execution_count": 20,
   "metadata": {},
   "outputs": [
    {
     "name": "stdout",
     "output_type": "stream",
     "text": [
      "[Epoch  3 / 10]\n",
      "+----+----+----+----+----+----+\n",
      "|  0 |  0 |  0 |  0 |  0 |  0 |\n",
      "+----+----+----+----+----+----+\n",
      "|  0 |  0 |  0 |  0 |  0 |  0 |\n",
      "+----+----+----+----+----+----+\n",
      "\n",
      "P1 Score :  17 , AI score :  31\n",
      "Move History :  [1, 11, 1, 9, 5, 6, 4, 10, 4, 7, 0, 7, 5, 8, 1, 7, 4, 7, 2, 10, 4, 8, 3, 6, 4, 6, 5, 8, 0, 6, 1, 7, 2, 10, 2, 11, 0, 9, 2, 11, 1, 10, 4, 6, 2, 11, 3, 7, 0, 9, 0, 6, 4, 11, 0, 10, 1, 7, 5, 7, 3, 9, 4, 10, 2, 11, 5, 8]\n",
      "State Collected :  59\n",
      "[Epoch  1 /10]\n",
      "P1 Score : 21, AI score : 27\n",
      "Move History : [1, 11, 2, 8, 3, 11, 5, 10, 1, 7, 0, 6, 5, 9, 4, 11, 1, 6, 2, 6, 4, 6, 0, 7, 5, 7, 3, 6, 0, 10, 2, 8, 4, 8, 1, 7, 5, 9, 1, 10, 3, 7, 1, 6, 2, 9, 0, 11, 0, 6, 2, 8, 1, 10, 0, 9, 1, 11, 0, 7, 4, 6, 1, 9, 2, 7, 3, 6, 4, 11, 5, 8, 1, 9, 2, 6, 0, 8, 3, 11, 2, 7, 4, 9, 1, 11, 2, 10, 5, 8, 1, 9, 2, 11, 0, 10, 4, 6, 5, 6, 3, 7, 1, 6, 5, 10, 4, 7, 2, 8, 3, 9, 0, 6, 1, 11, 1, 10]\n",
      "\n",
      "[Epoch  2 /10]\n",
      "P1 Score : 22, AI score : 26\n",
      "Move History : [5, 7, 1, 9, 4, 6, 1, 11, 0, 8, 5, 11, 1, 6, 4, 10, 1, 9, 1, 10, 2, 8, 0, 10, 5, 6, 3, 10, 2, 7, 5, 6, 3, 9, 1, 7, 4, 10, 5, 9, 2, 8, 2, 6, 4, 7, 0, 9, 5, 8, 3, 10, 3, 9, 0, 11, 0, 9, 1, 10, 2, 7, 4, 9, 5, 6, 1, 8, 3, 11, 2, 6, 5, 6, 0, 7, 4, 9, 3, 11, 4, 10, 0, 11, 5, 8, 1, 9, 0, 7, 2, 10, 3, 11, 1, 6, 4, 8, 0, 7, 5, 8, 2, 7, 1, 6, 2, 7, 3, 8, 5, 10, 4, 6, 5]\n",
      "\n",
      "[Epoch  3 /10]\n",
      "P1 Score : 17, AI score : 31\n",
      "Move History : [1, 11, 1, 9, 5, 6, 4, 10, 4, 7, 0, 7, 5, 8, 1, 7, 4, 7, 2, 10, 4, 8, 3, 6, 4, 6, 5, 8, 0, 6, 1, 7, 2, 10, 2, 11, 0, 9, 2, 11, 1, 10, 4, 6, 2, 11, 3, 7, 0, 9, 0, 6, 4, 11, 0, 10, 1, 7, 5, 7, 3, 9, 4, 10, 2, 11, 5, 8]\n",
      "\n",
      "\n",
      "[Epoch  1 /10]\n",
      "P1 Score : 21, AI score : 27\n",
      "Move History : [1, 11, 2, 8, 3, 11, 5, 10, 1, 7, 0, 6, 5, 9, 4, 11, 1, 6, 2, 6, 4, 6, 0, 7, 5, 7, 3, 6, 0, 10, 2, 8, 4, 8, 1, 7, 5, 9, 1, 10, 3, 7, 1, 6, 2, 9, 0, 11, 0, 6, 2, 8, 1, 10, 0, 9, 1, 11, 0, 7, 4, 6, 1, 9, 2, 7, 3, 6, 4, 11, 5, 8, 1, 9, 2, 6, 0, 8, 3, 11, 2, 7, 4, 9, 1, 11, 2, 10, 5, 8, 1, 9, 2, 11, 0, 10, 4, 6, 5, 6, 3, 7, 1, 6, 5, 10, 4, 7, 2, 8, 3, 9, 0, 6, 1, 11, 1, 10]\n",
      "\n",
      "[Epoch  2 /10]\n",
      "P1 Score : 22, AI score : 26\n",
      "Move History : [5, 7, 1, 9, 4, 6, 1, 11, 0, 8, 5, 11, 1, 6, 4, 10, 1, 9, 1, 10, 2, 8, 0, 10, 5, 6, 3, 10, 2, 7, 5, 6, 3, 9, 1, 7, 4, 10, 5, 9, 2, 8, 2, 6, 4, 7, 0, 9, 5, 8, 3, 10, 3, 9, 0, 11, 0, 9, 1, 10, 2, 7, 4, 9, 5, 6, 1, 8, 3, 11, 2, 6, 5, 6, 0, 7, 4, 9, 3, 11, 4, 10, 0, 11, 5, 8, 1, 9, 0, 7, 2, 10, 3, 11, 1, 6, 4, 8, 0, 7, 5, 8, 2, 7, 1, 6, 2, 7, 3, 8, 5, 10, 4, 6, 5]\n",
      "\n",
      "[Epoch  3 /10]\n",
      "P1 Score : 17, AI score : 31\n",
      "Move History : [1, 11, 1, 9, 5, 6, 4, 10, 4, 7, 0, 7, 5, 8, 1, 7, 4, 7, 2, 10, 4, 8, 3, 6, 4, 6, 5, 8, 0, 6, 1, 7, 2, 10, 2, 11, 0, 9, 2, 11, 1, 10, 4, 6, 2, 11, 3, 7, 0, 9, 0, 6, 4, 11, 0, 10, 1, 7, 5, 7, 3, 9, 4, 10, 2, 11, 5, 8]\n",
      "\n",
      "P1 wins:  0, Tie :  0, Agent wins :  3\n"
     ]
    }
   ],
   "source": [
    "P1 = 0\n",
    "agent = 0\n",
    "tie = 0\n",
    "\n",
    "result = \"\"\n",
    "state = {}\n",
    "count = 1\n",
    "\n",
    "\n",
    "for round in range(3):\n",
    "    playing = True\n",
    "    oware = Oware()\n",
    "\n",
    "    while playing:\n",
    "        \n",
    "        clear_output(wait=True)\n",
    "        \n",
    "        print(f\"[Epoch {round + 1: >2} / 10]\")\n",
    "\n",
    "        print(oware.board_render())\n",
    "        print(\"P1 Score : \", oware.score()[0], \", AI score : \", oware.score()[1])\n",
    "        print(\"Move History : \", oware.moves())\n",
    "        \n",
    "        print(\"State Collected : \", count - 1 )\n",
    "\n",
    "        if len(oware.valid_move()) != 0:\n",
    "            if oware.playerone():\n",
    "                valid_idx = oware.valid_move()\n",
    "                move = choice(valid_idx)\n",
    "            else:\n",
    "                # clone = oware.clone()\n",
    "                # move = bestmove(clone)\n",
    "                valid_idx = oware.valid_move()\n",
    "                move = choice(valid_idx)\n",
    "            \n",
    "            oware.move(move)\n",
    "            print(\"Chosen move : \", move)\n",
    "            print(\"Move History : \", oware.moves())\n",
    "        \n",
    "        else:\n",
    "            playing = False\n",
    "            \n",
    "        rand = random()\n",
    "        \n",
    "        if rand > 0.8:\n",
    "            state[count] = {}\n",
    "            state[count][\"board\"] = list(oware.board())\n",
    "            state[count][\"score\"] = list(oware.score())\n",
    "            state[count][\"playerOneTurn\"] = oware.playerone()\n",
    "            state[count][\"moves\"] = list(oware.moves())\n",
    "            \n",
    "            count += 1\n",
    "        \n",
    "        sys.stdout.flush()\n",
    "    \n",
    "    result += \"[Epoch {0: >2} /10]\\n\".format(round + 1)\n",
    "    result += \"P1 Score : {0: >2}, AI score : {1: >2}\\n\".format(oware.score()[0], oware.score()[1])\n",
    "    result += \"Move History : {}\\n\\n\".format(oware.moves())\n",
    "    score = oware.score()\n",
    "    \n",
    "    if score[0] > score[1]:\n",
    "        P1 += 1\n",
    "    \n",
    "    if score[0] == score[1]:\n",
    "        tie += 1\n",
    "    \n",
    "    if score[0] < score[1]:\n",
    "        agent += 1\n",
    "    \n",
    "    print(result)\n",
    "    \n",
    "\n",
    "\n",
    "result += \"P1 wins: {0: >2}, Tie : {1: >2}, Agent wins : {2: >2}\".format(P1, tie, agent)\n",
    "print(result)"
   ]
  },
  {
   "attachments": {},
   "cell_type": "markdown",
   "metadata": {},
   "source": [
    "# JSON Export"
   ]
  },
  {
   "cell_type": "code",
   "execution_count": 23,
   "metadata": {},
   "outputs": [],
   "source": [
    "import json\n",
    "\n",
    "with open(\"score.json\", \"w\") as file:\n",
    "    json.dump(state, file, sort_keys=True, indent=4)"
   ]
  },
  {
   "cell_type": "code",
   "execution_count": null,
   "metadata": {},
   "outputs": [],
   "source": []
  }
 ],
 "metadata": {
  "kernelspec": {
   "display_name": "Python 3",
   "language": "python",
   "name": "python3"
  },
  "language_info": {
   "codemirror_mode": {
    "name": "ipython",
    "version": 3
   },
   "file_extension": ".py",
   "mimetype": "text/x-python",
   "name": "python",
   "nbconvert_exporter": "python",
   "pygments_lexer": "ipython3",
   "version": "3.10.5"
  },
  "orig_nbformat": 4,
  "vscode": {
   "interpreter": {
    "hash": "5830221da9ff863bbd25adcf854c4847988091fdfc8381106bbd551dc683a958"
   }
  }
 },
 "nbformat": 4,
 "nbformat_minor": 2
}
